{
  "cells": [
    {
      "cell_type": "markdown",
      "metadata": {
        "colab_type": "text",
        "id": "view-in-github"
      },
      "source": [
        "<a href=\"https://colab.research.google.com/github/ilkertrker/Data_analysis_w_python/blob/main/Ders1.ipynb\" target=\"_parent\"><img src=\"https://colab.research.google.com/assets/colab-badge.svg\" alt=\"Open In Colab\"/></a>"
      ]
    },
    {
      "cell_type": "code",
      "execution_count": 4,
      "metadata": {
        "colab": {
          "base_uri": "https://localhost:8080/",
          "height": 0
        },
        "id": "HNHlWXpfHM9k",
        "outputId": "b3785632-0257-4454-e5b0-6a2f53220430"
      },
      "outputs": [
        {
          "name": "stdout",
          "output_type": "stream",
          "text": [
            "merhaba\n"
          ]
        }
      ],
      "source": [
        "print(\"merhaba\")"
      ]
    },
    {
      "cell_type": "code",
      "execution_count": 5,
      "metadata": {
        "id": "edV8uvIfIkWR"
      },
      "outputs": [],
      "source": [
        "x=18\n",
        "seyma=3.145877\n",
        "_x=22\n",
        "# bir değişkenin önüne _ eklersek doğrudan okumaları hızlandırır"
      ]
    },
    {
      "cell_type": "code",
      "execution_count": 6,
      "metadata": {
        "colab": {
          "base_uri": "https://localhost:8080/",
          "height": 0
        },
        "id": "k1GJkp0vJ08D",
        "outputId": "803b6a2e-e9ff-41a5-8d20-8f34377e0165"
      },
      "outputs": [
        {
          "name": "stdout",
          "output_type": "stream",
          "text": [
            "a\n"
          ]
        }
      ],
      "source": [
        "y=input(\"Lütfen bir değişken giriniz\")\n",
        "print(y)"
      ]
    },
    {
      "cell_type": "code",
      "execution_count": 7,
      "metadata": {
        "colab": {
          "base_uri": "https://localhost:8080/",
          "height": 0
        },
        "id": "tHKRk4cLNLRB",
        "outputId": "438a130b-5507-49ee-d02b-3689342850c0"
      },
      "outputs": [
        {
          "name": "stdout",
          "output_type": "stream",
          "text": [
            "4.47213595499958\n"
          ]
        }
      ],
      "source": [
        "import math as m #math library\n",
        "x=float(input(\"Lütfen bir sayı giriniz:\"))\n",
        "if x==20:\n",
        "  print(m.sqrt(x))\n"
      ]
    },
    {
      "cell_type": "code",
      "execution_count": 8,
      "metadata": {
        "colab": {
          "base_uri": "https://localhost:8080/",
          "height": 0
        },
        "id": "aW7S4JneNxhZ",
        "outputId": "f424e1eb-ec31-471d-e80f-6bab74def1e7"
      },
      "outputs": [
        {
          "name": "stdout",
          "output_type": "stream",
          "text": [
            "4.47213595499958\n"
          ]
        }
      ],
      "source": [
        "x=float(input(\"Lütfen bir sayı giriniz:\"))\n",
        "if x>=20 and x<=30:\n",
        "  print(m.sqrt(x))\n"
      ]
    },
    {
      "cell_type": "code",
      "execution_count": 9,
      "metadata": {
        "colab": {
          "base_uri": "https://localhost:8080/",
          "height": 0
        },
        "id": "8ymgXPy5Ptog",
        "outputId": "af9b84e6-6560-489e-9d98-32899681d7c5"
      },
      "outputs": [
        {
          "name": "stdout",
          "output_type": "stream",
          "text": [
            "Kullanıcı adı veya şifre yanlış\n"
          ]
        }
      ],
      "source": [
        "kull_adi=input(\"Kullanıcı adını giriniz:\")\n",
        "sifre=input(\"Şifrenizi giriniz:\")\n",
        "if kull_adi==\"İturker\" and sifre==\"112233\":\n",
        "  print(\"Hoşgeldiniz\")\n",
        "else:\n",
        "  print(\"Kullanıcı adı veya şifre yanlış\")"
      ]
    },
    {
      "cell_type": "code",
      "execution_count": 10,
      "metadata": {
        "colab": {
          "base_uri": "https://localhost:8080/"
        },
        "id": "daZNXh3uYkvi",
        "outputId": "767734ff-8143-4f7a-f027-abf901e5a69d"
      },
      "outputs": [
        {
          "name": "stdout",
          "output_type": "stream",
          "text": [
            "Hatalı Giriş\n"
          ]
        }
      ],
      "source": [
        "admin=input(\"Kullanici Adi:\")\n",
        "sifre=input(\"Sifre:\")\n",
        "\n",
        "if admin==\"admin\" and sifre==\"123abc\":\n",
        "  print(\"Hosgeldiniz\")\n",
        "elif admin==\"user\" and sifre==\"123abc\":\n",
        "  print(\"Hosgeldiniz\")\n",
        "elif admin==\"ali\" and sifre==\"abc\":\n",
        "  print(\"Hosgeldiniz\")\n",
        "else:\n",
        "  print(\"Hatalı Giriş\")"
      ]
    },
    {
      "cell_type": "code",
      "execution_count": 11,
      "metadata": {
        "colab": {
          "base_uri": "https://localhost:8080/"
        },
        "id": "aQvYEqTNQgAo",
        "outputId": "bfbbae04-790f-4e54-b310-368f92ce2c9e"
      },
      "outputs": [
        {
          "name": "stdout",
          "output_type": "stream",
          "text": [
            "Hatali giris\n"
          ]
        }
      ],
      "source": [
        "\n",
        "x=float(input(\"Lutfen bir sayı giriniz:\"))\n",
        "y=float(input(\"Lutfen ikinci bir sayı giriniz:\"))\n",
        "z=input(\"Lutfen yapmak istediğiniz islemi seciniz(+-*/)\")\n",
        "\n",
        "if z==\"+\":\n",
        "  print(x+y)\n",
        "elif z==\"-\":\n",
        "  print(x-y)\n",
        "elif z==\"*\":\n",
        "  print(x*y)\n",
        "elif z==\"/\":\n",
        "  print(x/y)\n",
        "else:\n",
        "  print(\"Hatali giris\")"
      ]
    },
    {
      "cell_type": "code",
      "execution_count": 12,
      "metadata": {
        "colab": {
          "base_uri": "https://localhost:8080/",
          "height": 292
        },
        "id": "zh8fjQSYaPS8",
        "outputId": "3a9d3ee5-856f-4742-e9b5-98a3d849a1fe"
      },
      "outputs": [
        {
          "ename": "SyntaxError",
          "evalue": "invalid syntax (467309840.py, line 6)",
          "output_type": "error",
          "traceback": [
            "\u001b[0;36m  Cell \u001b[0;32mIn[12], line 6\u001b[0;36m\u001b[0m\n\u001b[0;31m    match(z):\u001b[0m\n\u001b[0m             ^\u001b[0m\n\u001b[0;31mSyntaxError\u001b[0m\u001b[0;31m:\u001b[0m invalid syntax\n"
          ]
        }
      ],
      "source": [
        "while True:\n",
        "  x=float(input(\"Lutfen bir sayı giriniz:\"))\n",
        "  y=float(input(\"Lutfen ikinci bir sayı giriniz:\"))\n",
        "  z=input(\"Lutfen yapmak istediğiniz islemi seciniz(+-*/)\")\n",
        "\n",
        "  match(z):\n",
        "    case \"+\":\n",
        "      print(x+y)\n",
        "    case \"-\":\n",
        "      print(x-y)\n",
        "    case \"*\":\n",
        "      print(x*y)\n",
        "    case \"/\":\n",
        "      print(x/y)\n",
        "    case \"e\":\n",
        "      print(\"Programdan cikiliyor\")\n",
        "      break\n",
        "    case \"E\":\n",
        "      print(\"Programdan cikiliyor\")\n",
        "      break\n",
        "    case _:\n",
        "      print(\"Hatali giris\")"
      ]
    },
    {
      "cell_type": "markdown",
      "metadata": {
        "id": "vQm63QuagbUj"
      },
      "source": [
        "Arrayler - Diziler"
      ]
    },
    {
      "cell_type": "code",
      "execution_count": 36,
      "metadata": {
        "colab": {
          "base_uri": "https://localhost:8080/"
        },
        "id": "2ApbfGM5bwa8",
        "outputId": "05fceb4d-0445-44c6-a8fb-4d977f66a752"
      },
      "outputs": [
        {
          "name": "stdout",
          "output_type": "stream",
          "text": [
            "Sumeyra Naz\n",
            "14\n",
            "['Emir', 'Buse', 'Meryem', 'Simge', 'Nazlican']\n",
            "['Berivan', 'Ertuğrul', 'Ilker', 'Naz']\n",
            "Naz\n",
            "['Nazlican', 'Berivan', 'Ertuğrul', 'Ilker', 'Naz']\n"
          ]
        }
      ],
      "source": [
        "ad=[\"Sumeyra\",\"Sevde\",\"Nisa\",\"Gonca\",\"Busra\",\"Emir\",\"Buse\",\"Meryem\",\"Simge\",\"Nazlican\",\"Berivan\",\"Ertuğrul\",\"Ilker\",\"Naz\"]\n",
        "\n",
        "print(ad[0],ad[13])\n",
        "print(len(ad))\n",
        "print(ad[5:10])\n",
        "print(ad[10:])\n",
        "print(ad[len(ad)-1])\n",
        "print(ad[len(ad)-5:len(ad)]) #print(ad[9:14])"
      ]
    },
    {
      "cell_type": "markdown",
      "metadata": {
        "id": "a32zCBTWggIM"
      },
      "source": [
        "**DÖNGÜLER**\n",
        "\n",
        "---\n",
        "\n",
        "For"
      ]
    },
    {
      "cell_type": "code",
      "execution_count": 45,
      "metadata": {
        "colab": {
          "base_uri": "https://localhost:8080/"
        },
        "id": "W5WN29xsgnjq",
        "outputId": "eae9c702-abfb-4b6c-cdf0-48fac98d01f9"
      },
      "outputs": [
        {
          "name": "stdout",
          "output_type": "stream",
          "text": [
            "0\n",
            "1\n",
            "2\n",
            "3\n",
            "4\n",
            "5\n",
            "6\n",
            "7\n",
            "8\n",
            "9\n",
            "--------------------\n",
            "5\n",
            "6\n",
            "7\n",
            "8\n",
            "9\n",
            "10\n",
            "--------------------\n",
            "0\n",
            "2\n",
            "4\n",
            "6\n",
            "8\n",
            "10\n",
            "12\n",
            "14\n",
            "16\n",
            "18\n"
          ]
        }
      ],
      "source": [
        "for i in range(10):  #i değişken adı, 0 dan 10 a kadar aralıkta yaz\n",
        "  print(i)\n",
        "print(\"--------------------\")\n",
        "\n",
        "for i in range(5,11):\n",
        "  print(i)\n",
        "print(\"--------------------\")\n",
        "\n",
        "for i in range(0,20,2): #ardışık çift sayılar\n",
        "  print(i)"
      ]
    },
    {
      "cell_type": "code",
      "execution_count": 41,
      "metadata": {
        "id": "lT4qiSCIhyJW"
      },
      "outputs": [],
      "source": [
        "x=float(input(\"Lütfen bir sayı giriniz:\"))\n",
        "if x%7==0:\n",
        "  print(\"Sayı çifttir\")\n",
        "else:\n",
        "  print(\"Sayı tektir\")"
      ]
    },
    {
      "cell_type": "code",
      "execution_count": 61,
      "metadata": {
        "colab": {
          "base_uri": "https://localhost:8080/"
        },
        "id": "lk9mxAnUiwkb",
        "outputId": "13aa72ae-6bbc-4577-adc5-5b0baca51ee7"
      },
      "outputs": [
        {
          "name": "stdout",
          "output_type": "stream",
          "text": [
            "7\n",
            "21\n",
            "35\n",
            "49\n",
            "63\n",
            "77\n",
            "91\n"
          ]
        }
      ],
      "source": [
        "for x in range(100): #7'ye tam bölünebilen sayıları göster\n",
        "  if x % 7 == 0 and x % 2:\n",
        "    print(x)"
      ]
    },
    {
      "cell_type": "code",
      "execution_count": 63,
      "metadata": {
        "colab": {
          "base_uri": "https://localhost:8080/"
        },
        "id": "-T6BpBBdus7V",
        "outputId": "a207c0c8-3acd-4170-c0c2-69619d46628f"
      },
      "outputs": [
        {
          "name": "stdout",
          "output_type": "stream",
          "text": [
            "i\n",
            "s\n",
            "m\n",
            "e\n",
            "k\n"
          ]
        }
      ],
      "source": [
        "for x in \"ismek\":\n",
        "  print(x)"
      ]
    },
    {
      "cell_type": "code",
      "execution_count": 70,
      "metadata": {
        "colab": {
          "base_uri": "https://localhost:8080/"
        },
        "id": "Etyp0j4pu6y3",
        "outputId": "2d7917d4-b18f-40db-93f9-9bde0e2e0435"
      },
      "outputs": [
        {
          "name": "stdout",
          "output_type": "stream",
          "text": [
            "[2, 'Ali']\n",
            "1\n",
            "[2, 'Ali']\n",
            "4\n",
            "5\n",
            "Mert\n",
            "7\n",
            "8\n",
            "9\n"
          ]
        }
      ],
      "source": [
        "liste=[1,[2,\"Ali\"],4,5,\"Mert\",7,8,9]\n",
        "print(liste[1])\n",
        "for x in liste:\n",
        "  print(x)"
      ]
    },
    {
      "cell_type": "code",
      "execution_count": 96,
      "metadata": {
        "colab": {
          "base_uri": "https://localhost:8080/"
        },
        "id": "ZS6aosbSwAm_",
        "outputId": "7f4738e6-bc0c-4e7b-ed46-1fe5956e6439"
      },
      "outputs": [
        {
          "name": "stdout",
          "output_type": "stream",
          "text": [
            "Sümeyra Geçti\n",
            "Sevde Geçti\n",
            "Nisa Kaldı\n",
            "mehmet Kaldı\n",
            "[['Sümeyra', 100, 90, 94.0, 'Geçti'], ['Sevde', 60, 70, 66.0, 'Geçti'], ['Nisa', 20, 70, 50.0, 'Kaldı'], ['mehmet', 30, 20, 24.0, 'Kaldı']]\n"
          ]
        }
      ],
      "source": [
        "liste=[[\"Sümeyra\",100,90],[\"Sevde\",60,70],[\"Nisa\",20,70],[\"mehmet\",30,20]]\n",
        "for x in liste:\n",
        "  print(x[0], end=\" \")\n",
        "  if 60 <= (x[1]*0.6 + x[2]*0.4):\n",
        "    print(\"Geçti\")\n",
        "  else:\n",
        "    print(\"Kaldı\")\n",
        "\n",
        "print(\"--------------\")\n",
        "\n",
        "liste=[[\"Sümeyra\",100,90],[\"Sevde\",60,70],[\"Nisa\",20,70],[\"mehmet\",30,20]]\n",
        "for x in liste:\n",
        "  print(x[0],\"Geçti\" if 60 <= (x[1]*0.6 + x[2]*0.4) else \"Kaldı\")\n",
        "\n",
        "\n",
        "print(\"--------------\")\n",
        "\n",
        "liste=[[\"Sümeyra\",100,90],[\"Sevde\",60,70],[\"Nisa\",20,70],[\"mehmet\",30,20]]\n",
        "for x in liste:\n",
        "  y=x[1]*0.4+x[2]*0.6\n",
        "  if y>=60:\n",
        "    print(x[0],\"Geçti\")\n",
        "    x.append(y)\n",
        "    x.append(\"Geçti\")\n",
        "  elif y>50 and y<60:\n",
        "    print(x[0],\"bütünleme\")\n",
        "    x.append(y)\n",
        "    x.append(\"Bütünleme\")\n",
        "  else:\n",
        "    print(x[0],\"Kaldı\")\n",
        "    x.append(y)\n",
        "    x.append(\"Kaldı\")\n",
        "\n",
        "print(liste)\n",
        "\n"
      ]
    },
    {
      "cell_type": "code",
      "execution_count": 100,
      "metadata": {
        "colab": {
          "base_uri": "https://localhost:8080/"
        },
        "id": "4wj2tSHbyBwn",
        "outputId": "e39b1341-e78e-4d8f-e1e2-2c32c8fca144"
      },
      "outputs": [
        {
          "name": "stdout",
          "output_type": "stream",
          "text": [
            "lütfen bir sayı giriniz:12\n",
            "12.0\n",
            "13.0\n",
            "14.0\n",
            "15.0\n",
            "16.0\n",
            "17.0\n",
            "18.0\n",
            "19.0\n"
          ]
        }
      ],
      "source": [
        "x=float(input(\"lütfen bir sayı giriniz:\"))\n",
        "while x>10 and x<20:\n",
        "  print(x)\n",
        "  x+=1"
      ]
    },
    {
      "cell_type": "code",
      "execution_count": 106,
      "metadata": {
        "colab": {
          "base_uri": "https://localhost:8080/"
        },
        "id": "QPXSls9b2wSX",
        "outputId": "dfef5819-8e3c-4861-9d33-99f9041744c7"
      },
      "outputs": [
        {
          "name": "stdout",
          "output_type": "stream",
          "text": [
            "lütfen bir sayı giriniz:5\n",
            "girilen sayı 10 ile 20 arasında olmalı\n"
          ]
        }
      ],
      "source": [
        "y=float(input(\"lütfen bir sayı giriniz:\"))\n",
        "for x in range(10,20):\n",
        "  if y<=10 or y>=20:\n",
        "    print(\"girilen sayı 10 ile 20 arasında olmalı\")\n",
        "    break\n",
        "  else:\n",
        "    print(x)\n"
      ]
    },
    {
      "cell_type": "code",
      "execution_count": 117,
      "metadata": {
        "colab": {
          "base_uri": "https://localhost:8080/"
        },
        "id": "zltmxbVJ6gO_",
        "outputId": "5d0a0743-8af4-42e7-d8f7-0576655540a8"
      },
      "outputs": [
        {
          "name": "stdout",
          "output_type": "stream",
          "text": [
            "lütfen deger giriniz+\n",
            "110\n"
          ]
        }
      ],
      "source": [
        "import math as hesapla\n",
        "sayi1=10\n",
        "sayi2=100\n",
        "\n",
        "x={\n",
        "    \"+\":sayi1+sayi2,\n",
        "    \"-\":sayi1-sayi2,\n",
        "    \"*\":sayi1*sayi2,\n",
        "    \"/\":sayi1/sayi2,\n",
        "    \"?\":hesapla.sin(sayi2)\n",
        "}\n",
        "\n",
        "secim=input(\"lütfen deger giriniz\")\n",
        "print(x[secim])"
      ]
    },
    {
      "cell_type": "code",
      "execution_count": 24,
      "metadata": {
        "id": "OLgEaMjb91at"
      },
      "outputs": [
        {
          "ename": "OperationalError",
          "evalue": "no such table: sozluk",
          "output_type": "error",
          "traceback": [
            "\u001b[0;31m---------------------------------------------------------------------------\u001b[0m",
            "\u001b[0;31mOperationalError\u001b[0m                          Traceback (most recent call last)",
            "Cell \u001b[0;32mIn[24], line 7\u001b[0m\n\u001b[1;32m      4\u001b[0m tara\u001b[38;5;241m=\u001b[39m baglanti\u001b[38;5;241m.\u001b[39mcursor()\n\u001b[1;32m      6\u001b[0m veriler\u001b[38;5;241m=\u001b[39m\u001b[38;5;124m\"\u001b[39m\u001b[38;5;124mSELECT * From sozluk\u001b[39m\u001b[38;5;124m\"\u001b[39m\n\u001b[0;32m----> 7\u001b[0m \u001b[43mtara\u001b[49m\u001b[38;5;241;43m.\u001b[39;49m\u001b[43mexecute\u001b[49m\u001b[43m(\u001b[49m\u001b[43mveriler\u001b[49m\u001b[43m)\u001b[49m\n\u001b[1;32m      8\u001b[0m sonuc\u001b[38;5;241m=\u001b[39mtara\u001b[38;5;241m.\u001b[39mfetchall()\n\u001b[1;32m      9\u001b[0m \u001b[38;5;28mprint\u001b[39m(sonuc)\n",
            "\u001b[0;31mOperationalError\u001b[0m: no such table: sozluk"
          ]
        }
      ],
      "source": [
        "import sqlite3 as sql\n",
        "\n",
        "baglanti=sql.connect(\"veritabani.db\")\n",
        "tara= baglanti.cursor()\n",
        "\n",
        "veriler=\"SELECT * From sozluk\"\n",
        "tara.execute(veriler)\n",
        "sonuc=tara.fetchall()\n",
        "print(sonuc)"
      ]
    }
  ],
  "metadata": {
    "colab": {
      "authorship_tag": "ABX9TyN11WlgN7twMWluwAgZ1V1M",
      "include_colab_link": true,
      "provenance": []
    },
    "kernelspec": {
      "display_name": "Python 3",
      "name": "python3"
    },
    "language_info": {
      "codemirror_mode": {
        "name": "ipython",
        "version": 3
      },
      "file_extension": ".py",
      "mimetype": "text/x-python",
      "name": "python",
      "nbconvert_exporter": "python",
      "pygments_lexer": "ipython3",
      "version": "3.9.6"
    }
  },
  "nbformat": 4,
  "nbformat_minor": 0
}
