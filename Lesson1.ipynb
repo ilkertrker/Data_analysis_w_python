{
  "nbformat": 4,
  "nbformat_minor": 0,
  "metadata": {
    "colab": {
      "provenance": [],
      "authorship_tag": "ABX9TyPzoaBuVXP2HstSvdB9RWqA",
      "include_colab_link": true
    },
    "kernelspec": {
      "name": "python3",
      "display_name": "Python 3"
    },
    "language_info": {
      "name": "python"
    }
  },
  "cells": [
    {
      "cell_type": "markdown",
      "metadata": {
        "id": "view-in-github",
        "colab_type": "text"
      },
      "source": [
        "<a href=\"https://colab.research.google.com/github/ilkertrker/Data_analysis_w_python/blob/main/Lesson1.ipynb\" target=\"_parent\"><img src=\"https://colab.research.google.com/assets/colab-badge.svg\" alt=\"Open In Colab\"/></a>"
      ]
    },
    {
      "cell_type": "code",
      "execution_count": 1,
      "metadata": {
        "colab": {
          "base_uri": "https://localhost:8080/",
          "height": 0
        },
        "id": "HNHlWXpfHM9k",
        "outputId": "b3785632-0257-4454-e5b0-6a2f53220430"
      },
      "outputs": [
        {
          "output_type": "stream",
          "name": "stdout",
          "text": [
            "merhaba\n"
          ]
        }
      ],
      "source": [
        "print(\"merhaba\")"
      ]
    },
    {
      "cell_type": "code",
      "source": [
        "x=18\n",
        "seyma=3.145877\n",
        "_x=22\n",
        "/* bir değişkenin önüne _ eklersek doğrudan okumaları hızlandırır*/"
      ],
      "metadata": {
        "id": "edV8uvIfIkWR"
      },
      "execution_count": 2,
      "outputs": []
    },
    {
      "cell_type": "code",
      "source": [
        "y=input(\"Lütfen bir değişken giriniz\")\n",
        "print(y*2)"
      ],
      "metadata": {
        "colab": {
          "base_uri": "https://localhost:8080/",
          "height": 0
        },
        "id": "k1GJkp0vJ08D",
        "outputId": "803b6a2e-e9ff-41a5-8d20-8f34377e0165"
      },
      "execution_count": 7,
      "outputs": [
        {
          "output_type": "stream",
          "name": "stdout",
          "text": [
            "Lütfen bir değişken giriniz3\n",
            "33\n"
          ]
        }
      ]
    },
    {
      "cell_type": "code",
      "source": [
        "import math as m\n",
        "x=float(input(\"Lütfen bir sayı giriniz:\"))\n",
        "if x==20:\n",
        "  print(m.sqrt(x))\n"
      ],
      "metadata": {
        "colab": {
          "base_uri": "https://localhost:8080/",
          "height": 0
        },
        "id": "tHKRk4cLNLRB",
        "outputId": "438a130b-5507-49ee-d02b-3689342850c0"
      },
      "execution_count": 9,
      "outputs": [
        {
          "output_type": "stream",
          "name": "stdout",
          "text": [
            "Lütfen bir sayı giriniz:20\n",
            "4.47213595499958\n"
          ]
        }
      ]
    },
    {
      "cell_type": "code",
      "source": [
        "x=float(input(\"Lütfen bir sayı giriniz:\"))\n",
        "if x>=20 and x<=30:\n",
        "  print(m.sqrt(x))\n"
      ],
      "metadata": {
        "colab": {
          "base_uri": "https://localhost:8080/",
          "height": 0
        },
        "id": "aW7S4JneNxhZ",
        "outputId": "f424e1eb-ec31-471d-e80f-6bab74def1e7"
      },
      "execution_count": 10,
      "outputs": [
        {
          "output_type": "stream",
          "name": "stdout",
          "text": [
            "Lütfen bir sayı giriniz:25\n",
            "5.0\n"
          ]
        }
      ]
    },
    {
      "cell_type": "code",
      "source": [
        "kull_adi=input(\"Kullanıcı adını giriniz:\")\n",
        "sifre=input(\"Şifrenizi giriniz:\")\n",
        "if kull_adi==\"İturker\" and sifre==\"112233\":\n",
        "  print(\"Hoşgeldiniz\")\n",
        "else:\n",
        "  print(\"Kullanıcı adı veya şifre yanlış\")"
      ],
      "metadata": {
        "colab": {
          "base_uri": "https://localhost:8080/",
          "height": 0
        },
        "id": "8ymgXPy5Ptog",
        "outputId": "af9b84e6-6560-489e-9d98-32899681d7c5"
      },
      "execution_count": 18,
      "outputs": [
        {
          "output_type": "stream",
          "name": "stdout",
          "text": [
            "Kullanıcı adını giriniz:İturker\n",
            "Şifrenizi giriniz:112233\n",
            "Hoşgeldiniz\n"
          ]
        }
      ]
    },
    {
      "cell_type": "code",
      "source": [
        "admin=input(\"Kullanici Adi:\")\n",
        "sifre=input(\"Sifre:\")\n",
        "\n",
        "if admin==\"admin\" and sifre==\"123abc\":\n",
        "  print(\"Hosgeldiniz\")\n",
        "elif admin==\"user\" and sifre==\"123abc\":\n",
        "  print(\"Hosgeldiniz\")\n",
        "elif admin==\"ali\" and sifre==\"abc\":\n",
        "  print(\"Hosgeldiniz\")\n",
        "else:\n",
        "  print(\"Hatalı Giriş\")"
      ],
      "metadata": {
        "colab": {
          "base_uri": "https://localhost:8080/"
        },
        "id": "daZNXh3uYkvi",
        "outputId": "767734ff-8143-4f7a-f027-abf901e5a69d"
      },
      "execution_count": 21,
      "outputs": [
        {
          "output_type": "stream",
          "name": "stdout",
          "text": [
            "Kullanici Adi:a\n",
            "Sifre:a\n",
            "Hatalı Giriş\n"
          ]
        }
      ]
    },
    {
      "cell_type": "code",
      "source": [
        "x=float(input(\"Lutfen bir sayı giriniz:\"))\n",
        "y=float(input(\"Lutfen ikinci bir sayı giriniz:\"))\n",
        "z=input(\"Lutfen yapmak istediğiniz islemi seciniz(+-*/)\")\n",
        "\n",
        "if z==\"+\":\n",
        "  print(x+y)\n",
        "elif z==\"-\":\n",
        "  print(x-y)\n",
        "elif z==\"*\":\n",
        "  print(x*y)\n",
        "elif z==\"/\":\n",
        "  print(x/y)\n",
        "else:\n",
        "  print(\"Hatali giris\")"
      ],
      "metadata": {
        "colab": {
          "base_uri": "https://localhost:8080/"
        },
        "id": "aQvYEqTNQgAo",
        "outputId": "bfbbae04-790f-4e54-b310-368f92ce2c9e"
      },
      "execution_count": 22,
      "outputs": [
        {
          "output_type": "stream",
          "name": "stdout",
          "text": [
            "Lutfen bir sayı giriniz:20\n",
            "Lutfen ikinci bir sayı giriniz:30\n",
            "Lutfen yapmak istediğiniz islemi seciniz(+-*/)+\n",
            "50.0\n"
          ]
        }
      ]
    },
    {
      "cell_type": "code",
      "source": [
        "x=float(input(\"Lutfen bir sayı giriniz:\"))\n",
        "y=float(input(\"Lutfen ikinci bir sayı giriniz:\"))\n",
        "z=input(\"Lutfen yapmak istediğiniz islemi seciniz(+-*/)\")\n",
        "\n",
        "match(z):\n",
        "  case \"+\":\n",
        "    print(x+y)\n",
        "  case \"-\":\n",
        "    print(x-y)\n",
        "  case \"*\":\n",
        "    print(x*y)\n",
        "  case \"/\":\n",
        "    print(x/y)\n",
        "  case _:\n",
        "    print(\"Hatali giris\")"
      ],
      "metadata": {
        "id": "zh8fjQSYaPS8"
      },
      "execution_count": null,
      "outputs": []
    },
    {
      "cell_type": "code",
      "source": [
        "ad=[\"Sumeyra\",\"Sevde\",\"Nisa\",\"Gonca\",\"Busra\",\"Emir\",\"Buse\",\"Meryem\",\"Simge\",\"Nazlican\",\"Berivan\",\"Ertuğrul\",\"Ilker\",\"Naz\"]\n",
        "\n",
        "print(ad[0],ad[13])\n",
        "print(len(ad))\n",
        "print(ad[5:10])\n",
        "print(ad[10:])\n",
        "print(ad[len(ad)-1])\n",
        "print(ad[len(ad)-5:len(ad)])"
      ],
      "metadata": {
        "colab": {
          "base_uri": "https://localhost:8080/"
        },
        "id": "2ApbfGM5bwa8",
        "outputId": "e9d653cf-2bbc-4fcf-db20-cb5e28e85de2"
      },
      "execution_count": 35,
      "outputs": [
        {
          "output_type": "stream",
          "name": "stdout",
          "text": [
            "Sumeyra Naz\n",
            "14\n",
            "['Emir', 'Buse', 'Meryem', 'Simge', 'Nazlican']\n",
            "['Berivan', 'Ertuğrul', 'Ilker', 'Naz']\n",
            "Naz\n",
            "['Nazlican', 'Berivan', 'Ertuğrul', 'Ilker', 'Naz']\n"
          ]
        }
      ]
    },
    {
      "cell_type": "code",
      "source": [],
      "metadata": {
        "id": "VtFXLNJbdsQw"
      },
      "execution_count": null,
      "outputs": []
    }
  ]
}